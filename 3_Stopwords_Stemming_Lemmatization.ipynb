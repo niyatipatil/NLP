{
  "cells": [
    {
      "cell_type": "markdown",
      "id": "serial-proceeding",
      "metadata": {
        "id": "serial-proceeding"
      },
      "source": [
        "Experiment 03 ~ NLP DLOC ~ Niyati Patil"
      ]
    },
    {
      "cell_type": "markdown",
      "id": "exposed-trinity",
      "metadata": {
        "id": "exposed-trinity"
      },
      "source": [
        "### Library required"
      ]
    },
    {
      "cell_type": "code",
      "execution_count": 1,
      "id": "explicit-leather",
      "metadata": {
        "colab": {
          "base_uri": "https://localhost:8080/"
        },
        "id": "explicit-leather",
        "outputId": "1d341e88-c75c-4256-dda3-41c82dd9eb88"
      },
      "outputs": [
        {
          "output_type": "stream",
          "name": "stdout",
          "text": [
            "Requirement already satisfied: nltk in /usr/local/lib/python3.10/dist-packages (3.8.1)\n",
            "Requirement already satisfied: click in /usr/local/lib/python3.10/dist-packages (from nltk) (8.1.7)\n",
            "Requirement already satisfied: joblib in /usr/local/lib/python3.10/dist-packages (from nltk) (1.3.2)\n",
            "Requirement already satisfied: regex>=2021.8.3 in /usr/local/lib/python3.10/dist-packages (from nltk) (2023.6.3)\n",
            "Requirement already satisfied: tqdm in /usr/local/lib/python3.10/dist-packages (from nltk) (4.66.1)\n"
          ]
        }
      ],
      "source": [
        "!pip install nltk"
      ]
    },
    {
      "cell_type": "markdown",
      "id": "parliamentary-transcript",
      "metadata": {
        "id": "parliamentary-transcript"
      },
      "source": [
        "### Text"
      ]
    },
    {
      "cell_type": "code",
      "execution_count": 2,
      "id": "centered-aurora",
      "metadata": {
        "id": "centered-aurora"
      },
      "outputs": [],
      "source": [
        "text = 'The quick brown foxes are jumping over the lazy dogs. They enjoy running in the forests and playing with the fallen leaves.'"
      ]
    },
    {
      "cell_type": "code",
      "execution_count": 3,
      "id": "configured-brass",
      "metadata": {
        "colab": {
          "base_uri": "https://localhost:8080/",
          "height": 35
        },
        "id": "configured-brass",
        "outputId": "161edfe0-0228-45b3-afdc-3ec606c16375"
      },
      "outputs": [
        {
          "output_type": "execute_result",
          "data": {
            "text/plain": [
              "'The quick brown foxes are jumping over the lazy dogs. They enjoy running in the forests and playing with the fallen leaves.'"
            ],
            "application/vnd.google.colaboratory.intrinsic+json": {
              "type": "string"
            }
          },
          "metadata": {},
          "execution_count": 3
        }
      ],
      "source": [
        "text"
      ]
    },
    {
      "cell_type": "markdown",
      "id": "tamil-technical",
      "metadata": {
        "id": "tamil-technical"
      },
      "source": [
        "### Stopwords"
      ]
    },
    {
      "cell_type": "code",
      "execution_count": 4,
      "id": "damaged-digit",
      "metadata": {
        "colab": {
          "base_uri": "https://localhost:8080/"
        },
        "id": "damaged-digit",
        "outputId": "78a38a34-c618-4ca2-d7fb-bf7524dae67a"
      },
      "outputs": [
        {
          "output_type": "stream",
          "name": "stderr",
          "text": [
            "[nltk_data] Downloading package stopwords to /root/nltk_data...\n",
            "[nltk_data]   Unzipping corpora/stopwords.zip.\n"
          ]
        }
      ],
      "source": [
        "import nltk\n",
        "nltk.download('stopwords')\n",
        "from nltk.corpus import stopwords"
      ]
    },
    {
      "cell_type": "code",
      "execution_count": 5,
      "id": "through-symposium",
      "metadata": {
        "id": "through-symposium"
      },
      "outputs": [],
      "source": [
        "stop_words = stopwords.words('english')"
      ]
    },
    {
      "cell_type": "code",
      "source": [
        "nltk.download('punkt')"
      ],
      "metadata": {
        "colab": {
          "base_uri": "https://localhost:8080/"
        },
        "id": "cHcY5c3Sr59c",
        "outputId": "833efc4f-9292-42de-c115-94a084e414dd"
      },
      "id": "cHcY5c3Sr59c",
      "execution_count": 6,
      "outputs": [
        {
          "output_type": "stream",
          "name": "stderr",
          "text": [
            "[nltk_data] Downloading package punkt to /root/nltk_data...\n",
            "[nltk_data]   Unzipping tokenizers/punkt.zip.\n"
          ]
        },
        {
          "output_type": "execute_result",
          "data": {
            "text/plain": [
              "True"
            ]
          },
          "metadata": {},
          "execution_count": 6
        }
      ]
    },
    {
      "cell_type": "code",
      "execution_count": 7,
      "id": "authentic-answer",
      "metadata": {
        "id": "authentic-answer"
      },
      "outputs": [],
      "source": [
        "from nltk.tokenize import word_tokenize\n",
        "words = word_tokenize(text)"
      ]
    },
    {
      "cell_type": "markdown",
      "id": "functional-checkout",
      "metadata": {
        "id": "functional-checkout"
      },
      "source": [
        "#### Applying stop words"
      ]
    },
    {
      "cell_type": "code",
      "execution_count": 8,
      "id": "piano-graph",
      "metadata": {
        "id": "piano-graph"
      },
      "outputs": [],
      "source": [
        "holder = list()\n",
        "for w in words:\n",
        "    if w not in set(stop_words):\n",
        "        holder.append(w)"
      ]
    },
    {
      "cell_type": "code",
      "execution_count": 9,
      "id": "accompanied-queens",
      "metadata": {
        "colab": {
          "base_uri": "https://localhost:8080/"
        },
        "id": "accompanied-queens",
        "outputId": "6fdc9cb9-03ab-4199-928c-103c5a6b14e6"
      },
      "outputs": [
        {
          "output_type": "execute_result",
          "data": {
            "text/plain": [
              "['The',\n",
              " 'quick',\n",
              " 'brown',\n",
              " 'foxes',\n",
              " 'jumping',\n",
              " 'lazy',\n",
              " 'dogs',\n",
              " '.',\n",
              " 'They',\n",
              " 'enjoy',\n",
              " 'running',\n",
              " 'forests',\n",
              " 'playing',\n",
              " 'fallen',\n",
              " 'leaves',\n",
              " '.']"
            ]
          },
          "metadata": {},
          "execution_count": 9
        }
      ],
      "source": [
        "holder"
      ]
    },
    {
      "cell_type": "markdown",
      "id": "digital-henry",
      "metadata": {
        "id": "digital-henry"
      },
      "source": [
        "#### List Comprehension for stop words"
      ]
    },
    {
      "cell_type": "code",
      "execution_count": 10,
      "id": "environmental-cartridge",
      "metadata": {
        "colab": {
          "base_uri": "https://localhost:8080/"
        },
        "id": "environmental-cartridge",
        "outputId": "0e30a114-2493-4033-b24e-bffa121dd79c"
      },
      "outputs": [
        {
          "output_type": "stream",
          "name": "stdout",
          "text": [
            "['The', 'quick', 'brown', 'foxes', 'jumping', 'lazy', 'dogs', '.', 'They', 'enjoy', 'running', 'forests', 'playing', 'fallen', 'leaves', '.']\n"
          ]
        }
      ],
      "source": [
        "holder = [w for w in words if w not in set(stop_words)]\n",
        "print(holder)"
      ]
    },
    {
      "cell_type": "markdown",
      "id": "forty-worth",
      "metadata": {
        "id": "forty-worth"
      },
      "source": [
        "### Stemming"
      ]
    },
    {
      "cell_type": "code",
      "execution_count": 11,
      "id": "related-costs",
      "metadata": {
        "id": "related-costs"
      },
      "outputs": [],
      "source": [
        "from nltk.stem import PorterStemmer, SnowballStemmer, LancasterStemmer"
      ]
    },
    {
      "cell_type": "code",
      "execution_count": 12,
      "id": "unsigned-mobile",
      "metadata": {
        "id": "unsigned-mobile"
      },
      "outputs": [],
      "source": [
        "porter = PorterStemmer()\n",
        "snow = SnowballStemmer(language = 'english')\n",
        "lancaster = LancasterStemmer()"
      ]
    },
    {
      "cell_type": "code",
      "execution_count": 13,
      "id": "ready-inside",
      "metadata": {
        "id": "ready-inside"
      },
      "outputs": [],
      "source": [
        "words = ['play', 'plays', 'played', 'playing', 'player']"
      ]
    },
    {
      "cell_type": "markdown",
      "id": "prostate-commitment",
      "metadata": {
        "id": "prostate-commitment"
      },
      "source": [
        "#### Porter Stemmer"
      ]
    },
    {
      "cell_type": "code",
      "execution_count": 14,
      "id": "involved-cherry",
      "metadata": {
        "id": "involved-cherry"
      },
      "outputs": [],
      "source": [
        "porter_stemmed = list()\n",
        "for w in words:\n",
        "    stemmed_words = porter.stem(w)\n",
        "    porter_stemmed.append(stemmed_words)"
      ]
    },
    {
      "cell_type": "code",
      "execution_count": 15,
      "id": "narrative-auditor",
      "metadata": {
        "colab": {
          "base_uri": "https://localhost:8080/"
        },
        "id": "narrative-auditor",
        "outputId": "86297579-db0f-44c6-babe-350e1eef5e83"
      },
      "outputs": [
        {
          "output_type": "execute_result",
          "data": {
            "text/plain": [
              "['play', 'play', 'play', 'play', 'player']"
            ]
          },
          "metadata": {},
          "execution_count": 15
        }
      ],
      "source": [
        "porter_stemmed"
      ]
    },
    {
      "cell_type": "markdown",
      "id": "mobile-giant",
      "metadata": {
        "id": "mobile-giant"
      },
      "source": [
        "#### Porter Stemmer List Comprehension"
      ]
    },
    {
      "cell_type": "code",
      "execution_count": 16,
      "id": "juvenile-assets",
      "metadata": {
        "colab": {
          "base_uri": "https://localhost:8080/"
        },
        "id": "juvenile-assets",
        "outputId": "95f05e45-037d-4792-e247-39c2e19c3dd1"
      },
      "outputs": [
        {
          "output_type": "stream",
          "name": "stdout",
          "text": [
            "['play', 'play', 'play', 'play', 'player']\n"
          ]
        }
      ],
      "source": [
        "porter_stemmed = [porter.stem(x) for x in words]\n",
        "print (porter_stemmed)"
      ]
    },
    {
      "cell_type": "markdown",
      "id": "japanese-piece",
      "metadata": {
        "id": "japanese-piece"
      },
      "source": [
        "#### Snowball Stemmer"
      ]
    },
    {
      "cell_type": "code",
      "execution_count": 17,
      "id": "skilled-coordinate",
      "metadata": {
        "id": "skilled-coordinate"
      },
      "outputs": [],
      "source": [
        "snow_stemmed = list()\n",
        "for w in words:\n",
        "    stemmed_words = snow.stem(w)\n",
        "    snow_stemmed.append(stemmed_words)"
      ]
    },
    {
      "cell_type": "code",
      "execution_count": 18,
      "id": "compressed-constitution",
      "metadata": {
        "colab": {
          "base_uri": "https://localhost:8080/"
        },
        "id": "compressed-constitution",
        "outputId": "d5ff0076-555e-418d-ba04-cdec9f10e21b"
      },
      "outputs": [
        {
          "output_type": "execute_result",
          "data": {
            "text/plain": [
              "['play', 'play', 'play', 'play', 'player']"
            ]
          },
          "metadata": {},
          "execution_count": 18
        }
      ],
      "source": [
        "snow_stemmed"
      ]
    },
    {
      "cell_type": "markdown",
      "id": "handled-preparation",
      "metadata": {
        "id": "handled-preparation"
      },
      "source": [
        "#### Snowball Stemmer List Comprehension"
      ]
    },
    {
      "cell_type": "code",
      "execution_count": 19,
      "id": "aboriginal-checklist",
      "metadata": {
        "colab": {
          "base_uri": "https://localhost:8080/"
        },
        "id": "aboriginal-checklist",
        "outputId": "2f6baf61-493a-4c3c-c2d4-c6375b81b951"
      },
      "outputs": [
        {
          "output_type": "stream",
          "name": "stdout",
          "text": [
            "['play', 'play', 'play', 'play', 'player']\n"
          ]
        }
      ],
      "source": [
        "snow_stemmed = [snow.stem(x) for x in words]\n",
        "print (snow_stemmed)"
      ]
    },
    {
      "cell_type": "markdown",
      "id": "narrative-graduation",
      "metadata": {
        "id": "narrative-graduation"
      },
      "source": [
        "#### Lancaster Stemmer"
      ]
    },
    {
      "cell_type": "code",
      "execution_count": 20,
      "id": "gorgeous-omega",
      "metadata": {
        "id": "gorgeous-omega"
      },
      "outputs": [],
      "source": [
        "lancaster_stemmed = list()\n",
        "for w in words:\n",
        "    stemmed_words = lancaster.stem(w)\n",
        "    lancaster_stemmed.append(stemmed_words)"
      ]
    },
    {
      "cell_type": "code",
      "execution_count": 22,
      "id": "funded-draft",
      "metadata": {
        "colab": {
          "base_uri": "https://localhost:8080/"
        },
        "id": "funded-draft",
        "outputId": "26d8e56f-ac6d-4874-e3d1-97310c9e57d1"
      },
      "outputs": [
        {
          "output_type": "execute_result",
          "data": {
            "text/plain": [
              "['play', 'play', 'play', 'play', 'play']"
            ]
          },
          "metadata": {},
          "execution_count": 22
        }
      ],
      "source": [
        "lancaster_stemmed"
      ]
    },
    {
      "cell_type": "markdown",
      "id": "stupid-jordan",
      "metadata": {
        "id": "stupid-jordan"
      },
      "source": [
        "#### Lancaster Stemmer List Comprehension"
      ]
    },
    {
      "cell_type": "code",
      "execution_count": 23,
      "id": "seven-world",
      "metadata": {
        "colab": {
          "base_uri": "https://localhost:8080/"
        },
        "id": "seven-world",
        "outputId": "c6cc36b4-7a2b-41be-c1c5-1ea5d941cfd6"
      },
      "outputs": [
        {
          "output_type": "stream",
          "name": "stdout",
          "text": [
            "['play', 'play', 'play', 'play', 'play']\n"
          ]
        }
      ],
      "source": [
        "lancaster_stemmed = [lancaster.stem(x) for x in words]\n",
        "print (lancaster_stemmed)"
      ]
    },
    {
      "cell_type": "markdown",
      "id": "wanted-wallace",
      "metadata": {
        "id": "wanted-wallace"
      },
      "source": [
        "### Lemmatization : This has a more expansive vocabulary than Stemming"
      ]
    },
    {
      "cell_type": "code",
      "execution_count": 24,
      "id": "coated-sport",
      "metadata": {
        "colab": {
          "base_uri": "https://localhost:8080/"
        },
        "id": "coated-sport",
        "outputId": "00c28a88-9886-4023-c998-a0c66bcc67ef"
      },
      "outputs": [
        {
          "output_type": "stream",
          "name": "stderr",
          "text": [
            "[nltk_data] Downloading package wordnet to /root/nltk_data...\n"
          ]
        },
        {
          "output_type": "execute_result",
          "data": {
            "text/plain": [
              "True"
            ]
          },
          "metadata": {},
          "execution_count": 24
        }
      ],
      "source": [
        "from nltk.stem import WordNetLemmatizer\n",
        "wordnet = WordNetLemmatizer()\n",
        "nltk.download('wordnet')"
      ]
    },
    {
      "cell_type": "code",
      "execution_count": 25,
      "id": "impressed-switzerland",
      "metadata": {
        "id": "impressed-switzerland"
      },
      "outputs": [],
      "source": [
        "lemmatized = [wordnet.lemmatize(x) for x in words]"
      ]
    },
    {
      "cell_type": "code",
      "execution_count": 26,
      "id": "removed-company",
      "metadata": {
        "colab": {
          "base_uri": "https://localhost:8080/"
        },
        "id": "removed-company",
        "outputId": "54691a8a-8109-4e5e-b8fd-f9e7de9f419d"
      },
      "outputs": [
        {
          "output_type": "execute_result",
          "data": {
            "text/plain": [
              "['play', 'play', 'played', 'playing', 'player']"
            ]
          },
          "metadata": {},
          "execution_count": 26
        }
      ],
      "source": [
        "lemmatized"
      ]
    }
  ],
  "metadata": {
    "kernelspec": {
      "display_name": "Python 3",
      "language": "python",
      "name": "python3"
    },
    "language_info": {
      "codemirror_mode": {
        "name": "ipython",
        "version": 3
      },
      "file_extension": ".py",
      "mimetype": "text/x-python",
      "name": "python",
      "nbconvert_exporter": "python",
      "pygments_lexer": "ipython3",
      "version": "3.7.0"
    },
    "colab": {
      "provenance": []
    }
  },
  "nbformat": 4,
  "nbformat_minor": 5
}